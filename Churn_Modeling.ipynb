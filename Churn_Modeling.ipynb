{
  "nbformat": 4,
  "nbformat_minor": 0,
  "metadata": {
    "colab": {
      "provenance": []
    },
    "kernelspec": {
      "name": "python3",
      "display_name": "Python 3"
    },
    "language_info": {
      "name": "python"
    }
  },
  "cells": [
    {
      "cell_type": "code",
      "execution_count": 39,
      "metadata": {
        "colab": {
          "base_uri": "https://localhost:8080/",
          "height": 73
        },
        "id": "mfr20TFW6aYQ",
        "outputId": "cb44a35d-a68e-49c4-8814-aaef948ca6c3"
      },
      "outputs": [
        {
          "output_type": "display_data",
          "data": {
            "text/plain": [
              "<IPython.core.display.HTML object>"
            ],
            "text/html": [
              "\n",
              "     <input type=\"file\" id=\"files-d3296e51-d60f-481a-9173-68cfdde1df43\" name=\"files[]\" multiple disabled\n",
              "        style=\"border:none\" />\n",
              "     <output id=\"result-d3296e51-d60f-481a-9173-68cfdde1df43\">\n",
              "      Upload widget is only available when the cell has been executed in the\n",
              "      current browser session. Please rerun this cell to enable.\n",
              "      </output>\n",
              "      <script>// Copyright 2017 Google LLC\n",
              "//\n",
              "// Licensed under the Apache License, Version 2.0 (the \"License\");\n",
              "// you may not use this file except in compliance with the License.\n",
              "// You may obtain a copy of the License at\n",
              "//\n",
              "//      http://www.apache.org/licenses/LICENSE-2.0\n",
              "//\n",
              "// Unless required by applicable law or agreed to in writing, software\n",
              "// distributed under the License is distributed on an \"AS IS\" BASIS,\n",
              "// WITHOUT WARRANTIES OR CONDITIONS OF ANY KIND, either express or implied.\n",
              "// See the License for the specific language governing permissions and\n",
              "// limitations under the License.\n",
              "\n",
              "/**\n",
              " * @fileoverview Helpers for google.colab Python module.\n",
              " */\n",
              "(function(scope) {\n",
              "function span(text, styleAttributes = {}) {\n",
              "  const element = document.createElement('span');\n",
              "  element.textContent = text;\n",
              "  for (const key of Object.keys(styleAttributes)) {\n",
              "    element.style[key] = styleAttributes[key];\n",
              "  }\n",
              "  return element;\n",
              "}\n",
              "\n",
              "// Max number of bytes which will be uploaded at a time.\n",
              "const MAX_PAYLOAD_SIZE = 100 * 1024;\n",
              "\n",
              "function _uploadFiles(inputId, outputId) {\n",
              "  const steps = uploadFilesStep(inputId, outputId);\n",
              "  const outputElement = document.getElementById(outputId);\n",
              "  // Cache steps on the outputElement to make it available for the next call\n",
              "  // to uploadFilesContinue from Python.\n",
              "  outputElement.steps = steps;\n",
              "\n",
              "  return _uploadFilesContinue(outputId);\n",
              "}\n",
              "\n",
              "// This is roughly an async generator (not supported in the browser yet),\n",
              "// where there are multiple asynchronous steps and the Python side is going\n",
              "// to poll for completion of each step.\n",
              "// This uses a Promise to block the python side on completion of each step,\n",
              "// then passes the result of the previous step as the input to the next step.\n",
              "function _uploadFilesContinue(outputId) {\n",
              "  const outputElement = document.getElementById(outputId);\n",
              "  const steps = outputElement.steps;\n",
              "\n",
              "  const next = steps.next(outputElement.lastPromiseValue);\n",
              "  return Promise.resolve(next.value.promise).then((value) => {\n",
              "    // Cache the last promise value to make it available to the next\n",
              "    // step of the generator.\n",
              "    outputElement.lastPromiseValue = value;\n",
              "    return next.value.response;\n",
              "  });\n",
              "}\n",
              "\n",
              "/**\n",
              " * Generator function which is called between each async step of the upload\n",
              " * process.\n",
              " * @param {string} inputId Element ID of the input file picker element.\n",
              " * @param {string} outputId Element ID of the output display.\n",
              " * @return {!Iterable<!Object>} Iterable of next steps.\n",
              " */\n",
              "function* uploadFilesStep(inputId, outputId) {\n",
              "  const inputElement = document.getElementById(inputId);\n",
              "  inputElement.disabled = false;\n",
              "\n",
              "  const outputElement = document.getElementById(outputId);\n",
              "  outputElement.innerHTML = '';\n",
              "\n",
              "  const pickedPromise = new Promise((resolve) => {\n",
              "    inputElement.addEventListener('change', (e) => {\n",
              "      resolve(e.target.files);\n",
              "    });\n",
              "  });\n",
              "\n",
              "  const cancel = document.createElement('button');\n",
              "  inputElement.parentElement.appendChild(cancel);\n",
              "  cancel.textContent = 'Cancel upload';\n",
              "  const cancelPromise = new Promise((resolve) => {\n",
              "    cancel.onclick = () => {\n",
              "      resolve(null);\n",
              "    };\n",
              "  });\n",
              "\n",
              "  // Wait for the user to pick the files.\n",
              "  const files = yield {\n",
              "    promise: Promise.race([pickedPromise, cancelPromise]),\n",
              "    response: {\n",
              "      action: 'starting',\n",
              "    }\n",
              "  };\n",
              "\n",
              "  cancel.remove();\n",
              "\n",
              "  // Disable the input element since further picks are not allowed.\n",
              "  inputElement.disabled = true;\n",
              "\n",
              "  if (!files) {\n",
              "    return {\n",
              "      response: {\n",
              "        action: 'complete',\n",
              "      }\n",
              "    };\n",
              "  }\n",
              "\n",
              "  for (const file of files) {\n",
              "    const li = document.createElement('li');\n",
              "    li.append(span(file.name, {fontWeight: 'bold'}));\n",
              "    li.append(span(\n",
              "        `(${file.type || 'n/a'}) - ${file.size} bytes, ` +\n",
              "        `last modified: ${\n",
              "            file.lastModifiedDate ? file.lastModifiedDate.toLocaleDateString() :\n",
              "                                    'n/a'} - `));\n",
              "    const percent = span('0% done');\n",
              "    li.appendChild(percent);\n",
              "\n",
              "    outputElement.appendChild(li);\n",
              "\n",
              "    const fileDataPromise = new Promise((resolve) => {\n",
              "      const reader = new FileReader();\n",
              "      reader.onload = (e) => {\n",
              "        resolve(e.target.result);\n",
              "      };\n",
              "      reader.readAsArrayBuffer(file);\n",
              "    });\n",
              "    // Wait for the data to be ready.\n",
              "    let fileData = yield {\n",
              "      promise: fileDataPromise,\n",
              "      response: {\n",
              "        action: 'continue',\n",
              "      }\n",
              "    };\n",
              "\n",
              "    // Use a chunked sending to avoid message size limits. See b/62115660.\n",
              "    let position = 0;\n",
              "    do {\n",
              "      const length = Math.min(fileData.byteLength - position, MAX_PAYLOAD_SIZE);\n",
              "      const chunk = new Uint8Array(fileData, position, length);\n",
              "      position += length;\n",
              "\n",
              "      const base64 = btoa(String.fromCharCode.apply(null, chunk));\n",
              "      yield {\n",
              "        response: {\n",
              "          action: 'append',\n",
              "          file: file.name,\n",
              "          data: base64,\n",
              "        },\n",
              "      };\n",
              "\n",
              "      let percentDone = fileData.byteLength === 0 ?\n",
              "          100 :\n",
              "          Math.round((position / fileData.byteLength) * 100);\n",
              "      percent.textContent = `${percentDone}% done`;\n",
              "\n",
              "    } while (position < fileData.byteLength);\n",
              "  }\n",
              "\n",
              "  // All done.\n",
              "  yield {\n",
              "    response: {\n",
              "      action: 'complete',\n",
              "    }\n",
              "  };\n",
              "}\n",
              "\n",
              "scope.google = scope.google || {};\n",
              "scope.google.colab = scope.google.colab || {};\n",
              "scope.google.colab._files = {\n",
              "  _uploadFiles,\n",
              "  _uploadFilesContinue,\n",
              "};\n",
              "})(self);\n",
              "</script> "
            ]
          },
          "metadata": {}
        },
        {
          "output_type": "stream",
          "name": "stdout",
          "text": [
            "Saving telco_customer_churn.csv to telco_customer_churn (3).csv\n"
          ]
        }
      ],
      "source": [
        "import pandas as pd\n",
        "import numpy as np\n",
        "import seaborn as sns\n",
        "import matplotlib.pyplot as plt\n",
        "from google.colab import files\n",
        "uploaded = files.upload()"
      ]
    },
    {
      "cell_type": "code",
      "source": [
        "data = pd.read_csv('telco_customer_churn.csv')\n",
        "print(data.head())"
      ],
      "metadata": {
        "colab": {
          "base_uri": "https://localhost:8080/"
        },
        "id": "Jqb4yOaj6dvT",
        "outputId": "ba4430f0-1f76-4703-81d3-bddd20f93cd2"
      },
      "execution_count": 40,
      "outputs": [
        {
          "output_type": "stream",
          "name": "stdout",
          "text": [
            "   customerID  gender  SeniorCitizen Partner Dependents  Tenure PhoneService  \\\n",
            "0           1  Female              0     Yes         No       1          Yes   \n",
            "1           2    Male              0     Yes         No      34          Yes   \n",
            "2           3  Female              0      No         No       2          Yes   \n",
            "3           4    Male              0     Yes        Yes      45          Yes   \n",
            "4           5  Female              1     Yes        Yes       5          Yes   \n",
            "\n",
            "  MultipleLines InternetService OnlineSecurity  ... DeviceProtection  \\\n",
            "0            No     Fiber optic            Yes  ...              Yes   \n",
            "1           Yes     Fiber optic             No  ...               No   \n",
            "2            No     Fiber optic             No  ...               No   \n",
            "3           Yes             DSL            Yes  ...              Yes   \n",
            "4            No     Fiber optic            Yes  ...              Yes   \n",
            "\n",
            "  TechSupport StreamingTV StreamingMovies        Contract PaperlessBilling  \\\n",
            "0         Yes          No              No  Month-to-month              Yes   \n",
            "1         Yes         Yes             Yes        One year              Yes   \n",
            "2          No          No             Yes  Month-to-month               No   \n",
            "3          No          No              No        Two year              Yes   \n",
            "4         Yes         Yes             Yes  Month-to-month              Yes   \n",
            "\n",
            "               PaymentMethod MonthlyCharges  TotalCharges  Churn  \n",
            "0           Electronic check          29.99         29.99    Yes  \n",
            "1                Credit card          56.95       1910.30     No  \n",
            "2           Electronic check          53.85        108.15    Yes  \n",
            "3  Bank transfer (automatic)          42.30       1902.45     No  \n",
            "4           Electronic check          70.70        355.60     No  \n",
            "\n",
            "[5 rows x 21 columns]\n"
          ]
        }
      ]
    },
    {
      "cell_type": "code",
      "source": [
        "print(\"Dataset Info:\")\n",
        "data.info()"
      ],
      "metadata": {
        "colab": {
          "base_uri": "https://localhost:8080/"
        },
        "id": "ylKvm9JxiXYD",
        "outputId": "98172fd8-6cb3-4d4d-ff50-51dcfeec1e7a"
      },
      "execution_count": 41,
      "outputs": [
        {
          "output_type": "stream",
          "name": "stdout",
          "text": [
            "Dataset Info:\n",
            "<class 'pandas.core.frame.DataFrame'>\n",
            "RangeIndex: 7 entries, 0 to 6\n",
            "Data columns (total 21 columns):\n",
            " #   Column            Non-Null Count  Dtype  \n",
            "---  ------            --------------  -----  \n",
            " 0   customerID        7 non-null      int64  \n",
            " 1   gender            7 non-null      object \n",
            " 2   SeniorCitizen     7 non-null      int64  \n",
            " 3   Partner           7 non-null      object \n",
            " 4   Dependents        7 non-null      object \n",
            " 5   Tenure            7 non-null      int64  \n",
            " 6   PhoneService      7 non-null      object \n",
            " 7   MultipleLines     7 non-null      object \n",
            " 8   InternetService   7 non-null      object \n",
            " 9   OnlineSecurity    7 non-null      object \n",
            " 10  OnlineBackup      7 non-null      object \n",
            " 11  DeviceProtection  7 non-null      object \n",
            " 12  TechSupport       7 non-null      object \n",
            " 13  StreamingTV       7 non-null      object \n",
            " 14  StreamingMovies   7 non-null      object \n",
            " 15  Contract          7 non-null      object \n",
            " 16  PaperlessBilling  7 non-null      object \n",
            " 17  PaymentMethod     7 non-null      object \n",
            " 18  MonthlyCharges    7 non-null      float64\n",
            " 19  TotalCharges      7 non-null      float64\n",
            " 20  Churn             7 non-null      object \n",
            "dtypes: float64(2), int64(3), object(16)\n",
            "memory usage: 1.3+ KB\n"
          ]
        }
      ]
    },
    {
      "cell_type": "code",
      "source": [
        "sns.countplot(x='Churn', data=data)\n",
        "plt.title('Churn Distribution')\n",
        "plt.show()\n"
      ],
      "metadata": {
        "colab": {
          "base_uri": "https://localhost:8080/",
          "height": 472
        },
        "id": "8gLA-_coikNs",
        "outputId": "7582fdb9-7671-44ab-bb40-4e8e4c0464da"
      },
      "execution_count": 42,
      "outputs": [
        {
          "output_type": "display_data",
          "data": {
            "text/plain": [
              "<Figure size 640x480 with 1 Axes>"
            ],
            "image/png": "[encoded data removed]"
          },
          "metadata": {}
        }
      ]
    },
    {
      "cell_type": "code",
      "source": [
        "sns.countplot(x='Contract', hue='Churn', data=data)\n",
        "plt.title('Churn by Contract Type')\n",
        "plt.xticks(rotation=15)\n",
        "plt.show()"
      ],
      "metadata": {
        "colab": {
          "base_uri": "https://localhost:8080/",
          "height": 500
        },
        "id": "64PClaCRi-_G",
        "outputId": "de9b2832-6c1e-45bb-c1be-7d6d4d747a6f"
      },
      "execution_count": 43,
      "outputs": [
        {
          "output_type": "display_data",
          "data": {
            "text/plain": [
              "<Figure size 640x480 with 1 Axes>"
            ],
            "image/png": "[encoded data removed]"
          },
          "metadata": {}
        }
      ]
    },
    {
      "cell_type": "code",
      "source": [
        "#Data Cleaning & Preprocessing\n",
        "\n",
        "print(\"Missing values per column:\\n\")\n",
        "print(data.isnull().sum())\n",
        "print(\"\\nCleaned DataFrame shape:\", data.shape)\n",
        "print(data.head())"
      ],
      "metadata": {
        "colab": {
          "base_uri": "https://localhost:8080/"
        },
        "id": "Oh3NUk6zjIvA",
        "outputId": "e2d9a383-d838-4828-ea03-80c6ecfe84eb"
      },
      "execution_count": 44,
      "outputs": [
        {
          "output_type": "stream",
          "name": "stdout",
          "text": [
            "Missing values per column:\n",
            "\n",
            "customerID          0\n",
            "gender              0\n",
            "SeniorCitizen       0\n",
            "Partner             0\n",
            "Dependents          0\n",
            "Tenure              0\n",
            "PhoneService        0\n",
            "MultipleLines       0\n",
            "InternetService     0\n",
            "OnlineSecurity      0\n",
            "OnlineBackup        0\n",
            "DeviceProtection    0\n",
            "TechSupport         0\n",
            "StreamingTV         0\n",
            "StreamingMovies     0\n",
            "Contract            0\n",
            "PaperlessBilling    0\n",
            "PaymentMethod       0\n",
            "MonthlyCharges      0\n",
            "TotalCharges        0\n",
            "Churn               0\n",
            "dtype: int64\n",
            "\n",
            "Cleaned DataFrame shape: (7, 21)\n",
            "   customerID  gender  SeniorCitizen Partner Dependents  Tenure PhoneService  \\\n",
            "0           1  Female              0     Yes         No       1          Yes   \n",
            "1           2    Male              0     Yes         No      34          Yes   \n",
            "2           3  Female              0      No         No       2          Yes   \n",
            "3           4    Male              0     Yes        Yes      45          Yes   \n",
            "4           5  Female              1     Yes        Yes       5          Yes   \n",
            "\n",
            "  MultipleLines InternetService OnlineSecurity  ... DeviceProtection  \\\n",
            "0            No     Fiber optic            Yes  ...              Yes   \n",
            "1           Yes     Fiber optic             No  ...               No   \n",
            "2            No     Fiber optic             No  ...               No   \n",
            "3           Yes             DSL            Yes  ...              Yes   \n",
            "4            No     Fiber optic            Yes  ...              Yes   \n",
            "\n",
            "  TechSupport StreamingTV StreamingMovies        Contract PaperlessBilling  \\\n",
            "0         Yes          No              No  Month-to-month              Yes   \n",
            "1         Yes         Yes             Yes        One year              Yes   \n",
            "2          No          No             Yes  Month-to-month               No   \n",
            "3          No          No              No        Two year              Yes   \n",
            "4         Yes         Yes             Yes  Month-to-month              Yes   \n",
            "\n",
            "               PaymentMethod MonthlyCharges  TotalCharges  Churn  \n",
            "0           Electronic check          29.99         29.99    Yes  \n",
            "1                Credit card          56.95       1910.30     No  \n",
            "2           Electronic check          53.85        108.15    Yes  \n",
            "3  Bank transfer (automatic)          42.30       1902.45     No  \n",
            "4           Electronic check          70.70        355.60     No  \n",
            "\n",
            "[5 rows x 21 columns]\n"
          ]
        }
      ]
    },
    {
      "cell_type": "code",
      "source": [
        "data = pd.get_dummies(data, drop_first=True)\n",
        "\n",
        "# Preview the cleaned dataset\n",
        "print(data.head())\n",
        "print(\"\\nShape after encoding:\", data.shape)"
      ],
      "metadata": {
        "colab": {
          "base_uri": "https://localhost:8080/"
        },
        "id": "BxQJbng_jSJl",
        "outputId": "b7bf34d1-7a06-40db-bae6-08fb5b9c0219"
      },
      "execution_count": 45,
      "outputs": [
        {
          "output_type": "stream",
          "name": "stdout",
          "text": [
            "   customerID  SeniorCitizen  Tenure  MonthlyCharges  TotalCharges  \\\n",
            "0           1              0       1           29.99         29.99   \n",
            "1           2              0      34           56.95       1910.30   \n",
            "2           3              0       2           53.85        108.15   \n",
            "3           4              0      45           42.30       1902.45   \n",
            "4           5              1       5           70.70        355.60   \n",
            "\n",
            "   gender_Male  Partner_Yes  Dependents_Yes  PhoneService_Yes  \\\n",
            "0        False         True           False              True   \n",
            "1         True         True           False              True   \n",
            "2        False        False           False              True   \n",
            "3         True         True            True              True   \n",
            "4        False         True            True              True   \n",
            "\n",
            "   MultipleLines_Yes  ...  DeviceProtection_Yes  TechSupport_Yes  \\\n",
            "0              False  ...                  True             True   \n",
            "1               True  ...                 False             True   \n",
            "2              False  ...                 False            False   \n",
            "3               True  ...                  True            False   \n",
            "4              False  ...                  True             True   \n",
            "\n",
            "   StreamingTV_Yes  StreamingMovies_Yes  Contract_One year  Contract_Two year  \\\n",
            "0            False                False              False              False   \n",
            "1             True                 True               True              False   \n",
            "2            False                 True              False              False   \n",
            "3            False                False              False               True   \n",
            "4             True                 True              False              False   \n",
            "\n",
            "   PaperlessBilling_Yes  PaymentMethod_Credit card  \\\n",
            "0                  True                      False   \n",
            "1                  True                       True   \n",
            "2                 False                      False   \n",
            "3                  True                      False   \n",
            "4                  True                      False   \n",
            "\n",
            "   PaymentMethod_Electronic check  Churn_Yes  \n",
            "0                            True       True  \n",
            "1                           False      False  \n",
            "2                            True       True  \n",
            "3                           False      False  \n",
            "4                            True      False  \n",
            "\n",
            "[5 rows x 23 columns]\n",
            "\n",
            "Shape after encoding: (7, 23)\n"
          ]
        }
      ]
    },
    {
      "cell_type": "code",
      "source": [
        "print(\"\\nAny missing values?\\n\", data.isnull().sum().sum())\n",
        "print(data.columns.tolist())\n"
      ],
      "metadata": {
        "colab": {
          "base_uri": "https://localhost:8080/"
        },
        "id": "Wrbb8-XhkRqr",
        "outputId": "2b384c09-9e76-469f-b0f8-10dbb46bbe8c"
      },
      "execution_count": 46,
      "outputs": [
        {
          "output_type": "stream",
          "name": "stdout",
          "text": [
            "\n",
            "Any missing values?\n",
            " 0\n",
            "['customerID', 'SeniorCitizen', 'Tenure', 'MonthlyCharges', 'TotalCharges', 'gender_Male', 'Partner_Yes', 'Dependents_Yes', 'PhoneService_Yes', 'MultipleLines_Yes', 'InternetService_Fiber optic', 'OnlineSecurity_Yes', 'OnlineBackup_Yes', 'DeviceProtection_Yes', 'TechSupport_Yes', 'StreamingTV_Yes', 'StreamingMovies_Yes', 'Contract_One year', 'Contract_Two year', 'PaperlessBilling_Yes', 'PaymentMethod_Credit card', 'PaymentMethod_Electronic check', 'Churn_Yes']\n"
          ]
        }
      ]
    },
    {
      "cell_type": "code",
      "source": [
        "X = data.drop(['Churn_Yes'], axis=1)\n",
        "y = data['Churn_Yes']\n"
      ],
      "metadata": {
        "id": "w2j4nG4drb1M"
      },
      "execution_count": 47,
      "outputs": []
    },
    {
      "cell_type": "code",
      "source": [
        "# Remove rows where either X or y is NaN\n",
        "X = X.dropna()\n",
        "y = y.loc[X.index]  # align y with X after dropping\n",
        "\n",
        "# Drop NaNs from y just in case\n",
        "y = y.dropna()\n",
        "\n",
        "print(\"NaNs in X:\", X.isnull().sum().sum())\n",
        "print(\"NaNs in y:\", y.isnull().sum())"
      ],
      "metadata": {
        "colab": {
          "base_uri": "https://localhost:8080/"
        },
        "id": "L230CAWiJbgN",
        "outputId": "bb6258bd-839c-4cdb-a26c-d630b486c5a1"
      },
      "execution_count": 48,
      "outputs": [
        {
          "output_type": "stream",
          "name": "stdout",
          "text": [
            "NaNs in X: 0\n",
            "NaNs in y: 0\n"
          ]
        }
      ]
    },
    {
      "cell_type": "code",
      "source": [
        "from sklearn.model_selection import train_test_split\n",
        "from sklearn.linear_model import LogisticRegression\n",
        "from sklearn.metrics import accuracy_score, classification_report\n",
        "\n",
        "X_train, X_test, y_train, y_test = train_test_split(X, y, test_size=0.2, random_state=42)\n",
        "\n",
        "model = LogisticRegression(max_iter=1000)\n",
        "model.fit(X_train, y_train)\n",
        "\n",
        "y_pred = model.predict(X_test)\n",
        "print(\"Accuracy:\", accuracy_score(y_test, y_pred))\n",
        "print(classification_report(y_test, y_pred))\n"
      ],
      "metadata": {
        "id": "LuHs3PhvrtF6",
        "colab": {
          "base_uri": "https://localhost:8080/"
        },
        "outputId": "3c5a15d8-0a34-4b2b-9f46-75e781d84275"
      },
      "execution_count": 49,
      "outputs": [
        {
          "output_type": "stream",
          "name": "stdout",
          "text": [
            "Accuracy: 1.0\n",
            "              precision    recall  f1-score   support\n",
            "\n",
            "       False       1.00      1.00      1.00         1\n",
            "        True       1.00      1.00      1.00         1\n",
            "\n",
            "    accuracy                           1.00         2\n",
            "   macro avg       1.00      1.00      1.00         2\n",
            "weighted avg       1.00      1.00      1.00         2\n",
            "\n"
          ]
        }
      ]
    },
    {
      "cell_type": "code",
      "source": [
        "categorical_cols = X.select_dtypes(include=['object']).columns\n",
        "print(categorical_cols)\n",
        "X_encoded = pd.get_dummies(X, drop_first=True)\n",
        "from sklearn.preprocessing import LabelEncoder\n",
        "le = LabelEncoder()\n",
        "y_encoded = le.fit_transform(y)\n"
      ],
      "metadata": {
        "colab": {
          "base_uri": "https://localhost:8080/"
        },
        "id": "-3QV-cTGCr6f",
        "outputId": "1b024b33-1c61-4a70-f2e4-1e4b7441387f"
      },
      "execution_count": 50,
      "outputs": [
        {
          "output_type": "stream",
          "name": "stdout",
          "text": [
            "Index([], dtype='object')\n"
          ]
        }
      ]
    },
    {
      "cell_type": "code",
      "source": [
        "from sklearn.preprocessing import StandardScaler\n",
        "\n",
        "scaler = StandardScaler()\n",
        "X_scaled = scaler.fit_transform(X_encoded)\n"
      ],
      "metadata": {
        "id": "T-jKnRAUDTWs"
      },
      "execution_count": 51,
      "outputs": []
    },
    {
      "cell_type": "code",
      "source": [
        "from sklearn.model_selection import train_test_split\n",
        "\n",
        "X_train, X_test, y_train, y_test = train_test_split(\n",
        "    X_scaled, y_encoded, test_size=0.2, random_state=42)\n",
        "\n",
        "print(f\"Training samples: {len(X_train)}\")\n",
        "print(f\"Test samples: {len(X_test)}\")\n"
      ],
      "metadata": {
        "colab": {
          "base_uri": "https://localhost:8080/"
        },
        "id": "WGR42cG6DbeK",
        "outputId": "d2cc3a8c-0261-41f7-8eea-9222fa664a29"
      },
      "execution_count": 52,
      "outputs": [
        {
          "output_type": "stream",
          "name": "stdout",
          "text": [
            "Training samples: 5\n",
            "Test samples: 2\n"
          ]
        }
      ]
    },
    {
      "cell_type": "code",
      "source": [
        "from sklearn.linear_model import LogisticRegression\n",
        "from sklearn.metrics import accuracy_score, classification_report\n",
        "\n",
        "# Build and train the model\n",
        "model = LogisticRegression()\n",
        "model.fit(X_train, y_train)\n",
        "\n",
        "# Make predictions\n",
        "y_pred = model.predict(X_test)\n",
        "\n",
        "# Evaluate performance\n",
        "print(\"Accuracy:\", accuracy_score(y_test, y_pred))\n",
        "print(\"Classification Report:\\n\", classification_report(y_test, y_pred))\n"
      ],
      "metadata": {
        "colab": {
          "base_uri": "https://localhost:8080/"
        },
        "id": "o-YM58q5DfCR",
        "outputId": "f2f3e635-9273-472d-ef12-821986d04799"
      },
      "execution_count": 53,
      "outputs": [
        {
          "output_type": "stream",
          "name": "stdout",
          "text": [
            "Accuracy: 1.0\n",
            "Classification Report:\n",
            "               precision    recall  f1-score   support\n",
            "\n",
            "           0       1.00      1.00      1.00         1\n",
            "           1       1.00      1.00      1.00         1\n",
            "\n",
            "    accuracy                           1.00         2\n",
            "   macro avg       1.00      1.00      1.00         2\n",
            "weighted avg       1.00      1.00      1.00         2\n",
            "\n"
          ]
        }
      ]
    },
    {
      "cell_type": "code",
      "source": [
        "from sklearn.ensemble import RandomForestClassifier\n",
        "\n",
        "rf_model = RandomForestClassifier(random_state=42)\n",
        "rf_model.fit(X_train, y_train)\n",
        "\n",
        "rf_pred = rf_model.predict(X_test)\n",
        "\n",
        "print(\"Random Forest Accuracy:\", accuracy_score(y_test, rf_pred))\n",
        "print(\"Random Forest Report:\\n\", classification_report(y_test, rf_pred))\n"
      ],
      "metadata": {
        "colab": {
          "base_uri": "https://localhost:8080/"
        },
        "id": "ZFEnfW0UEiV5",
        "outputId": "e4904985-41f1-41f7-ff24-42fcdfa40cec"
      },
      "execution_count": 54,
      "outputs": [
        {
          "output_type": "stream",
          "name": "stdout",
          "text": [
            "Random Forest Accuracy: 1.0\n",
            "Random Forest Report:\n",
            "               precision    recall  f1-score   support\n",
            "\n",
            "           0       1.00      1.00      1.00         1\n",
            "           1       1.00      1.00      1.00         1\n",
            "\n",
            "    accuracy                           1.00         2\n",
            "   macro avg       1.00      1.00      1.00         2\n",
            "weighted avg       1.00      1.00      1.00         2\n",
            "\n"
          ]
        }
      ]
    },
    {
      "cell_type": "code",
      "source": [
        "import matplotlib.pyplot as plt\n",
        "import pandas as pd\n",
        "import numpy as np\n",
        "\n",
        "# Get feature importances\n",
        "importances = rf_model.feature_importances_\n",
        "feature_names = X.columns\n",
        "indices = np.argsort(importances)[::-1]\n",
        "\n",
        "# Plot\n",
        "plt.figure(figsize=(10, 6))\n",
        "plt.title(\"Feature Importance (Random Forest)\")\n",
        "plt.bar(range(len(importances)), importances[indices], align='center')\n",
        "plt.xticks(range(len(importances)), feature_names[indices], rotation=90)\n",
        "plt.tight_layout()\n",
        "plt.show()\n"
      ],
      "metadata": {
        "colab": {
          "base_uri": "https://localhost:8080/",
          "height": 607
        },
        "id": "tg_5BRY1EqY1",
        "outputId": "71273350-4dd7-406f-9e05-0169c85fa415"
      },
      "execution_count": 55,
      "outputs": [
        {
          "output_type": "display_data",
          "data": {
            "text/plain": [
              "<Figure size 1000x600 with 1 Axes>"
            ],
            "image/png": "[encoded data removed]"
          },
          "metadata": {}
        }
      ]
    },
    {
      "cell_type": "code",
      "source": [
        "import pickle\n",
        "\n",
        "# Save model and scaler\n",
        "pickle.dump(rf_model, open(\"rf_model.pkl\", \"wb\"))\n",
        "pickle.dump(scaler, open(\"scaler.pkl\", \"wb\"))\n"
      ],
      "metadata": {
        "id": "PFKw7-MxEyh2"
      },
      "execution_count": 57,
      "outputs": []
    }
  ]
}